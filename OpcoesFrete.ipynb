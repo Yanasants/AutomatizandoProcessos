{
 "cells": [
  {
   "cell_type": "markdown",
   "metadata": {},
   "source": [
    "#### Opções de frete"
   ]
  },
  {
   "cell_type": "markdown",
   "metadata": {},
   "source": [
    "##### Determinar as opções de frete para o cliente de acordo com as especificidades do produto. \n",
    "O valor do frete é dado por: (Peso x Constante do frete)/10.\n",
    "\n",
    "    Características das opções:\n",
    "\n",
    "    Opção 1:\n",
    "        Constante para cálculo do frete: 0.3\n",
    "        Altura mínima: 10 cm\n",
    "        Altura máxima: 200 cm\n",
    "        Largura mínima: 6 cm\n",
    "        Largura máxima: 140 cm\n",
    "        Prazo para entrega: 6 dias\n",
    "\n",
    "    Opção 2:\n",
    "        Constante para cálculo do frete: 0.2\n",
    "        Altura mínima: 5 cm\n",
    "        Altura máxima: 140 cm\n",
    "        Largura mínima: 13 cm\n",
    "        Largura máxima: 125 cm\n",
    "        Prazo para entrega: 4 dias\n",
    "\n",
    "    Input: \n",
    "        {\n",
    "        \"dimensao\": {\n",
    "                        \"altura\":102,\n",
    "                        \"largura\":40\n",
    "                    },\n",
    "        \"peso\":400\n",
    "        }\n",
    "\n",
    "    Output: \n",
    "        [\n",
    "            {\n",
    "                \"nome\":\"Entrega Opção 1\",\n",
    "                \"valor_frete\": 12.00,\n",
    "                \"prazo_dias\": 6\n",
    "            },\n",
    "            {\n",
    "                \"nome\":\"Entrega Opção 2\",\n",
    "                \"valor_frete\": 8.00,\n",
    "                \"prazo_dias\": 4\n",
    "            }\n",
    "        ]"
   ]
  },
  {
   "cell_type": "code",
   "execution_count": 13,
   "metadata": {},
   "outputs": [],
   "source": [
    "opcoes = {1:{'altura_min': 10, 'altura_max': 200, 'largura_min': 6, 'largura_max': 140, 'constante':0.3, 'prazo': 6}, \\\n",
    "    2:{'altura_min': 5, 'altura_max': 140, 'largura_min': 13, 'largura_max': 125, 'constante':0.2, 'prazo':4}}"
   ]
  },
  {
   "cell_type": "code",
   "execution_count": 33,
   "metadata": {},
   "outputs": [],
   "source": [
    "def opcoesFrete(produto):\n",
    "    opcao = True\n",
    "    for nOps in opcoes.keys():\n",
    "        if produto['dimensao']['altura'] > opcoes[nOps]['altura_min'] and produto['dimensao']['altura'] < opcoes[nOps]['altura_max'] and \\\n",
    "            produto['dimensao']['largura'] > opcoes[nOps]['largura_min'] and produto['dimensao']['largura'] < opcoes[nOps]['altura_max'] and \\\n",
    "            produto['peso'] > 0:\n",
    "            opcao = opcao\n",
    "        else:\n",
    "            opcao = False\n",
    "\n",
    "        if opcao == True:\n",
    "            output = {'nome':f'Entrega Opcão {nOps}',\\\n",
    "                'valor_frete': (produto['peso']*opcoes[nOps]['constante'])/10, \\\n",
    "                'prazo_dias': opcoes[nOps]['prazo']}\n",
    "        else:\n",
    "            output = {}\n",
    "    print(output)\n"
   ]
  },
  {
   "cell_type": "markdown",
   "metadata": {},
   "source": [
    "##### Implementando"
   ]
  },
  {
   "cell_type": "code",
   "execution_count": 27,
   "metadata": {},
   "outputs": [
    {
     "name": "stdout",
     "output_type": "stream",
     "text": [
      "{'nome': 'Entrega Opcão 2', 'valor_frete': 8.0, 'prazo_dias': 4}\n"
     ]
    }
   ],
   "source": [
    "produto = {'dimensao':{'altura':102, 'largura':40}, 'peso':400}\n",
    "opcoesFrete(produto)"
   ]
  },
  {
   "cell_type": "code",
   "execution_count": 28,
   "metadata": {},
   "outputs": [
    {
     "name": "stdout",
     "output_type": "stream",
     "text": [
      "{'nome': 'Entrega Opcão 1', 'valor_frete': 25.5, 'prazo_dias': 6}\n"
     ]
    }
   ],
   "source": [
    "produto = {\n",
    "    \"dimensao\": {\n",
    "                    \"altura\":152,\n",
    "                    \"largura\":50\n",
    "                },\n",
    "    \"peso\":850\n",
    "}\n",
    "\n",
    "opcoesFrete(produto)"
   ]
  },
  {
   "cell_type": "code",
   "execution_count": 34,
   "metadata": {},
   "outputs": [
    {
     "name": "stdout",
     "output_type": "stream",
     "text": [
      "{}\n"
     ]
    }
   ],
   "source": [
    "produto = {\n",
    "    \"dimensao\": {\n",
    "                    \"altura\":230,\n",
    "                    \"largura\":162\n",
    "                },\n",
    "    \"peso\":5600\n",
    "}\n",
    "\n",
    "opcoesFrete(produto)"
   ]
  }
 ],
 "metadata": {
  "kernelspec": {
   "display_name": "Python 3.8.6 64-bit",
   "language": "python",
   "name": "python3"
  },
  "language_info": {
   "codemirror_mode": {
    "name": "ipython",
    "version": 3
   },
   "file_extension": ".py",
   "mimetype": "text/x-python",
   "name": "python",
   "nbconvert_exporter": "python",
   "pygments_lexer": "ipython3",
   "version": "3.8.6"
  },
  "orig_nbformat": 4,
  "vscode": {
   "interpreter": {
    "hash": "ce49d75d664714c9cdbfe0585b0b7902633ae41f45bc5554d08d9dd78a3267a6"
   }
  }
 },
 "nbformat": 4,
 "nbformat_minor": 2
}
