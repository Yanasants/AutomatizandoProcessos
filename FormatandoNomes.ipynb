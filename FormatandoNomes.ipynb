{
  "cells": [
    {
      "cell_type": "markdown",
      "metadata": {
        "id": "wRQ6Hi5tgvS3"
      },
      "source": [
        "#### Problema 1"
      ]
    },
    {
      "cell_type": "markdown",
      "metadata": {
        "id": "DOaMXtFPgvS7"
      },
      "source": [
        "##### Uma empresa precisa organizar uma relação com os nomes de seus funcionários. Para isso, os funcionários preencheram formulários com seus respectivos nomes, porém, alguns acabaram por não utilizar letras maiúsculas no início dos nomes e sobrenomes como deveriam. Crie um código para corrigir a formatação dos nomes e, em seguida, salve a relação em um arquivo csv."
      ]
    },
    {
      "cell_type": "code",
      "execution_count": null,
      "metadata": {
        "id": "5RE3od8rgvTC"
      },
      "outputs": [],
      "source": [
        "EmpNames = ['ana carolina leitão rêgo', 'carlos henrique pinto da silveira','kathleen pamela sousa lima', 'rayenne santos da luz', 'yana dos santos pereira' ]"
      ]
    },
    {
      "cell_type": "code",
      "execution_count": null,
      "metadata": {
        "colab": {
          "base_uri": "https://localhost:8080/"
        },
        "id": "EcMwNT7bgvS9",
        "outputId": "fdf9999b-86f1-42a2-9bcf-d3efef0436ba"
      },
      "outputs": [
        {
          "output_type": "stream",
          "name": "stdout",
          "text": [
            "Ana Carolina Leitão Rêgo\n",
            "Carlos Henrique Pinto Da Silveira\n",
            "Kathleen Pamela Sousa Lima\n",
            "Rayenne Santos Da Luz\n",
            "Yana Dos Santos Pereira\n"
          ]
        }
      ],
      "source": [
        "def nameOrganizer(names):\n",
        "\torgNames = {}\n",
        "\tfor fullNames in range(0, len(names)):\n",
        "\t\torgNames[fullNames] = ''\n",
        "\t\tfor Names in range (0, len(names[fullNames].split())):\n",
        "\t\t\tif names[fullNames].split()[Names].istitle() == False:\n",
        "\t\t\t\tnewName = list(names[fullNames].split()[Names])\n",
        "\t\t\t\tnewName[0] = newName[0].upper()\n",
        "\t\t\t\tNewName = ''\n",
        "\t\t\t\tfor i in range(len(newName)):\n",
        "\t\t\t\t\tNewName += newName[i]\n",
        "\t\t\torgNames[fullNames] += NewName\n",
        "\t\t\tif Names != (len(names[fullNames].split())-1):\n",
        "\t\t\t\torgNames[fullNames] += ' '\n",
        "\treturn orgNames.values()\n",
        "\n",
        "if __name__ == '__main__':\n",
        "\tnames = nameOrganizer(EmpNames)\n",
        "\tfor i in range(len(names)):\n",
        "\t\tprint(list(names)[i])\n",
        "\timport pandas as pd\n",
        "\tnames=pd.DataFrame(list(names), columns=['Names'])\n",
        "\tnames.to_csv('EmployeesNames.csv')"
      ]
    }
  ],
  "metadata": {
    "kernelspec": {
      "display_name": "Python 3.8.6 64-bit",
      "language": "python",
      "name": "python3"
    },
    "language_info": {
      "codemirror_mode": {
        "name": "ipython",
        "version": 3
      },
      "file_extension": ".py",
      "mimetype": "text/x-python",
      "name": "python",
      "nbconvert_exporter": "python",
      "pygments_lexer": "ipython3",
      "version": "3.8.6"
    },
    "orig_nbformat": 4,
    "vscode": {
      "interpreter": {
        "hash": "ce49d75d664714c9cdbfe0585b0b7902633ae41f45bc5554d08d9dd78a3267a6"
      }
    },
    "colab": {
      "name": "FormatandoNomes.ipynb",
      "provenance": []
    }
  },
  "nbformat": 4,
  "nbformat_minor": 0
}