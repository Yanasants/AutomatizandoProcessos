{
 "cells": [
  {
   "cell_type": "markdown",
   "metadata": {},
   "source": [
    "#### Problema 1"
   ]
  },
  {
   "cell_type": "markdown",
   "metadata": {},
   "source": [
    "##### Uma empresa precisa organizar uma relação com os nomes de seus funcionários. Para isso, os funcionários preencheram formulários com seus respectivos nomes, porém, alguns acabaram por não utilizar letras maiúsculas no início dos nomes e sobrenomes como deveriam. Crie um código para corrigir a formatação dos nomes e, em seguida, salve a relação em um dicionário."
   ]
  },
  {
   "cell_type": "code",
   "execution_count": 165,
   "metadata": {},
   "outputs": [],
   "source": [
    "def nameOrganizer(names) :\n",
    "\torgNames = {}\n",
    "\tfor fullNames in range(0, len(names)):\n",
    "\t\torgNames[fullNames] = ''\n",
    "\t\tfor Names in range (0, len(names[fullNames].split())):\n",
    "\t\t\tif names[fullNames].split()[Names].istitle() == False:\n",
    "\t\t\t\tnewName = list(names[fullNames].split()[Names])\n",
    "\t\t\t\tnewName[0] = newName[0].upper()\n",
    "\t\t\t\tNewName = ''\n",
    "\t\t\t\tfor i in range(len(newName)):\n",
    "\t\t\t\t\tNewName += newName[i]\n",
    "\t\t\torgNames[fullNames] += NewName\n",
    "\t\t\tif Names != (len(names[fullNames].split())-1):\n",
    "\t\t\t\torgNames[fullNames] += ' '\n",
    "\treturn orgNames\n",
    "\t"
   ]
  },
  {
   "cell_type": "markdown",
   "metadata": {},
   "source": [
    "##### Implementando exemplo"
   ]
  },
  {
   "cell_type": "code",
   "execution_count": 177,
   "metadata": {},
   "outputs": [],
   "source": [
    "funcNames = ['augusto pereira', 'breno silva', 'caio ribeiro', 'daniel gomes', 'maria joaquina barbosa', 'marcelo fernando lima']"
   ]
  },
  {
   "cell_type": "code",
   "execution_count": 178,
   "metadata": {},
   "outputs": [
    {
     "data": {
      "text/plain": [
       "{0: 'Augusto Pereira',\n",
       " 1: 'Breno Silva',\n",
       " 2: 'Caio Ribeiro',\n",
       " 3: 'Daniel Gomes',\n",
       " 4: 'Maria Joaquina Barbosa',\n",
       " 5: 'Marcelo Fernando Lima'}"
      ]
     },
     "execution_count": 178,
     "metadata": {},
     "output_type": "execute_result"
    }
   ],
   "source": [
    "nameOrganizer(funcNames)"
   ]
  }
 ],
 "metadata": {
  "kernelspec": {
   "display_name": "Python 3.8.6 64-bit",
   "language": "python",
   "name": "python3"
  },
  "language_info": {
   "codemirror_mode": {
    "name": "ipython",
    "version": 3
   },
   "file_extension": ".py",
   "mimetype": "text/x-python",
   "name": "python",
   "nbconvert_exporter": "python",
   "pygments_lexer": "ipython3",
   "version": "3.8.6"
  },
  "orig_nbformat": 4,
  "vscode": {
   "interpreter": {
    "hash": "ce49d75d664714c9cdbfe0585b0b7902633ae41f45bc5554d08d9dd78a3267a6"
   }
  }
 },
 "nbformat": 4,
 "nbformat_minor": 2
}
